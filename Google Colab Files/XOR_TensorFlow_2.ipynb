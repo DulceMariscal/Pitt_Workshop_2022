{
  "nbformat": 4,
  "nbformat_minor": 0,
  "metadata": {
    "colab": {
      "name": "XOR TensorFlow 2.ipynb",
      "provenance": [],
      "authorship_tag": "ABX9TyPvRw4AEiAY6ym8xDOycOss",
      "include_colab_link": true
    },
    "kernelspec": {
      "name": "python3",
      "display_name": "Python 3"
    }
  },
  "cells": [
    {
      "cell_type": "markdown",
      "metadata": {
        "id": "view-in-github",
        "colab_type": "text"
      },
      "source": [
        "<a href=\"https://colab.research.google.com/github/proflynch/Tekbac/blob/master/XOR_TensorFlow_2.ipynb\" target=\"_parent\"><img src=\"https://colab.research.google.com/assets/colab-badge.svg\" alt=\"Open In Colab\"/></a>"
      ]
    },
    {
      "cell_type": "code",
      "metadata": {
        "id": "9U2qVzwhcFFM",
        "colab_type": "code",
        "outputId": "9014b237-29b0-4e88-ffb8-eb45839eefc3",
        "colab": {
          "base_uri": "https://localhost:8080/",
          "height": 119
        }
      },
      "source": [
        "import numpy as np\n",
        "import matplotlib.pyplot as plt\n",
        "import pandas as pd\n",
        "import tensorflow as tf\n",
        "from tensorflow import keras\n",
        "import sys\n",
        "\n",
        "training_data = np.array([[0,0],[0, 1], [1, 0], [1, 1]], 'float32')\n",
        "target_data = np.array([[0], [1], [1], [0]], 'float32')\n",
        "model = tf.keras.models.Sequential()\n",
        "model.add(tf.keras.layers.Dense(4, input_dim = 2, activation = 'relu'))\n",
        "model.add(tf.keras.layers.Dense(1, activation = 'sigmoid'))\n",
        "\n",
        "model.compile(loss='mean_squared_error',optimizer=tf.keras.optimizers.Adam(0.1),metrics=['accuracy'])\n",
        "hist = model.fit(training_data, target_data, epochs = 600, verbose = 0)\n",
        "print(model.predict(training_data).round())\n",
        "val_loss, val_acc = model.evaluate(training_data, target_data)\n",
        "print(val_loss, val_acc)"
      ],
      "execution_count": 0,
      "outputs": [
        {
          "output_type": "stream",
          "text": [
            "[[0.]\n",
            " [1.]\n",
            " [1.]\n",
            " [0.]]\n",
            "1/1 [==============================] - 0s 1ms/step - loss: 7.1157e-05 - accuracy: 1.0000\n",
            "7.115719927242026e-05 1.0\n"
          ],
          "name": "stdout"
        }
      ]
    },
    {
      "cell_type": "code",
      "metadata": {
        "id": "P8LiRSawj194",
        "colab_type": "code",
        "outputId": "d08fe566-f676-4028-e36f-54f39e935dd7",
        "colab": {
          "base_uri": "https://localhost:8080/",
          "height": 279
        }
      },
      "source": [
        "loss_curve = hist.history[\"loss\"]\n",
        "acc_curve = hist.history[\"accuracy\"]\n",
        "plt.plot(loss_curve, label='Loss')\n",
        "plt.plot(acc_curve, label='Accuracy')\n",
        "plt.xlabel('Epochs')\n",
        "plt.legend()\n",
        "plt.show()"
      ],
      "execution_count": 0,
      "outputs": [
        {
          "output_type": "display_data",
          "data": {
            "image/png": "[encoded data removed]",
            "text/plain": [
              "<Figure size 432x288 with 1 Axes>"
            ]
          },
          "metadata": {
            "tags": [],
            "needs_background": "light"
          }
        }
      ]
    }
  ]
}